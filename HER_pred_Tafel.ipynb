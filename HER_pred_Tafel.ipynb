{
 "cells": [
  {
   "cell_type": "code",
   "execution_count": 3,
   "id": "19f59e50-60aa-42c8-8492-f078b77d9e65",
   "metadata": {},
   "outputs": [],
   "source": [
    "import pandas as pd\n",
    "import numpy as np\n",
    "import joblib\n",
    "from rdkit.Chem import AllChem\n",
    "from rdkit import Chem\n",
    "import sklearn\n",
    "from sklearn.preprocessing import LabelEncoder\n",
    "from sklearn.model_selection import train_test_split\n",
    "from sklearn.ensemble import RandomForestRegressor\n",
    "from sklearn.svm import SVR\n",
    "from sklearn.metrics import mean_absolute_error, r2_score\n",
    "import numpy as np\n",
    "from scipy.stats import pearsonr\n",
    "import matplotlib.pyplot as plt\n"
   ]
  },
  {
   "cell_type": "code",
   "execution_count": 4,
   "id": "d2996069-96f3-4a9a-87fe-1f24685a798f",
   "metadata": {},
   "outputs": [],
   "source": [
    "element_properties = {\n",
    "    'P': {\n",
    "        'group_number': 15,\n",
    "        'period_number': 3,\n",
    "        'electronegativity': 2.19,\n",
    "        'first_ionization_energy': 1011.8, #kJ/mol\n",
    "        'electron_affinity': 72, #kJ/mol\n",
    "        'density': 1.823, #g/cm3\n",
    "        'weight': 30.97,\n",
    "        'melting_point': 317.3,\n",
    "        'boiling_point': 553.7,\n",
    "    },\n",
    "    'Fe': {\n",
    "        'group_number': 8,\n",
    "        'period_number': 4,\n",
    "        'electronegativity': 1.83,\n",
    "        'first_ionization_energy': 762.5, #kJ/mol\n",
    "        'electron_affinity': 15.7, #kJ/mol\n",
    "        'density': 7.874, #g/cm3\n",
    "        'weight': 55.845,\n",
    "        'melting_point': 1811,\n",
    "        'boiling_point': 3134,\n",
    "    },\n",
    "    'Rh': {\n",
    "        'group_number': 9,\n",
    "        'period_number': 5,\n",
    "        'electronegativity': 2.28,\n",
    "        'first_ionization_energy': 719.7, #kJ/mol\n",
    "        'electron_affinity': 109.7, #kJ/mol\n",
    "        'density': 12.41, #g/cm3\n",
    "        'weight': 102.905,\n",
    "        'melting_point': 2237,\n",
    "        'boiling_point': 3968,\n",
    "    },\n",
    "    'Mn': {\n",
    "        'group_number': 7,\n",
    "        'period_number': 4,\n",
    "        'electronegativity': 1.55,\n",
    "        'first_ionization_energy': 717.3, #kJ/mol\n",
    "        'electron_affinity': 0, #kJ/mol\n",
    "        'density': 7.21, #g/cm3\n",
    "        'weight': 54.938,\n",
    "        'melting_point': 1519,\n",
    "        'boiling_point': 2334,\n",
    "    },\n",
    "    'Co': {\n",
    "        'group_number': 9,\n",
    "        'period_number': 4,\n",
    "        'electronegativity': 1.88,\n",
    "        'first_ionization_energy': 760.4, #kJ/mol\n",
    "        'electron_affinity': 63.7, #kJ/mol\n",
    "        'density': 8.90, #g/cm3\n",
    "        'weight': 58.933,\n",
    "        'melting_point': 1768,\n",
    "        'boiling_point': 3200,\n",
    "    },\n",
    "    'Ni': {\n",
    "        'group_number': 10,\n",
    "        'period_number': 4,\n",
    "        'electronegativity': 1.91,\n",
    "        'first_ionization_energy': 737.1, #kJ/mol\n",
    "        'electron_affinity': 112, #kJ/mol\n",
    "        'density': 8.90,\n",
    "        'weight': 58.69,\n",
    "        'melting_point': 1728,\n",
    "        'boiling_point': 3186,\n",
    "    },\n",
    "    \"W\":{\n",
    "        'group_number': 6,\n",
    "        'period_number': 6,\n",
    "        'electronegativity': 2.36,\n",
    "        'first_ionization_energy': 770.1, #kJ/mol\n",
    "        'electron_affinity': 78.6, #kJ/mol\n",
    "        'density': 19.25,\n",
    "        'weight': 183.84,\n",
    "        'melting_point': 3422, #도\n",
    "        'boiling_point': 5930, #\n",
    "    },\n",
    "    \"Ir\":{\n",
    "        'group_number': 9,\n",
    "        'period_number': 6,\n",
    "        'electronegativity': 2.2,\n",
    "        'first_ionization_energy': 880, #kJ/mol\n",
    "        'electron_affinity': 151, #kJ/mol\n",
    "        'density': 22.5622, #g/cm3\n",
    "        'weight': 192.217,\n",
    "        'melting_point': 2446,\n",
    "        'boiling_point': 4130,\n",
    "    },\n",
    "    \"Sn\":{\n",
    "        'group_number': 14,\n",
    "        'period_number': 5,\n",
    "        'electronegativity': 1.96,\n",
    "        'first_ionization_energy': 708.58, #kJ/mol\n",
    "        'electron_affinity': 107.3, #kJ/mol\n",
    "        'density': 7.289,\n",
    "        'weight': 118.71,\n",
    "        'melting_point': 231.93,\n",
    "        'boiling_point': 2602,\n",
    "    }\n",
    "    ,\n",
    "    \"Te\":{\n",
    "        'group_number': 16,\n",
    "        'period_number': 5,\n",
    "        'electronegativity': 2.1,\n",
    "        'first_ionization_energy': 869, #kJ/mol\n",
    "        'electron_affinity': 190.2, #kJ/mol\n",
    "        'density': 6.24,\n",
    "        'weight': 118.71,\n",
    "        'melting_point': 450,\n",
    "        'boiling_point': 988,\n",
    "    },\n",
    "    \"Pb\":{\n",
    "        'group_number': 14,\n",
    "        'period_number': 6,\n",
    "        'electronegativity': 2.33,\n",
    "        'first_ionization_energy': 715.6, #kJ/mol\n",
    "        'electron_affinity': 35.1, #kJ/mol\n",
    "        'density': 11.34,\n",
    "        'weight': 207.2,\n",
    "        'melting_point': 327.6,\n",
    "        'boiling_point': 1749,\n",
    "    }\n",
    "    ,\n",
    "    \"Pd\":{\n",
    "        'group_number': 10,\n",
    "        'period_number': 5,\n",
    "        'electronegativity': 2.2,\n",
    "        'first_ionization_energy': 804.4, #kJ/mol\n",
    "        'electron_affinity': 53.7, #kJ/mol\n",
    "        'density': 12.023,\n",
    "        'weight': 106.42,\n",
    "        'melting_point': 1555,\n",
    "        'boiling_point': 2963,\n",
    "    },\n",
    "    \"Cu\":{\n",
    "        'group_number': 11,\n",
    "        'period_number': 4,\n",
    "        'electronegativity': 1.9,\n",
    "        'first_ionization_energy': 745.5, #kJ/mol\n",
    "        'electron_affinity': 118.4, #kJ/mol\n",
    "        'density': 8.935,\n",
    "        'weight': 63.546,\n",
    "        'melting_point': 1084.62,\n",
    "        'boiling_point': 1984.32,\n",
    "    }\n",
    "    ,\n",
    "    \"Au\":{\n",
    "        'group_number': 11,\n",
    "        'period_number': 6,\n",
    "        'electronegativity': 2.54,\n",
    "        'first_ionization_energy': 890.1, #kJ/mol\n",
    "        'electron_affinity': 222.8, #kJ/mol\n",
    "        'density': 19.283,\n",
    "        'weight': 196.96657,\n",
    "        'melting_point': 1064.18,\n",
    "        'boiling_point': 2970,\n",
    "    },\n",
    "    \"Sb\":{\n",
    "        'group_number': 15,\n",
    "        'period_number': 5,\n",
    "        'electronegativity': 2.05,\n",
    "        'first_ionization_energy': 834, #kJ/mol\n",
    "        'electron_affinity': 103.2, #kJ/mol\n",
    "        'density': 6.697,\n",
    "        'weight': 121.76,\n",
    "        'melting_point': 630.78,\n",
    "        'boiling_point': 1587,\n",
    "    },\n",
    "    \"Ru\":{\n",
    "        'group_number': 8,\n",
    "        'period_number': 5,\n",
    "        'electronegativity': 2.2,\n",
    "        'first_ionization_energy': 710.2, #kJ/mol\n",
    "        'electron_affinity': 101.3, #kJ/mol\n",
    "        'density': 12.2,\n",
    "        'weight': 101.07,\n",
    "        'melting_point': 2250,\n",
    "        'boiling_point': 4150,\n",
    "    }\n",
    "    ,\n",
    "    \"-\":{\n",
    "        'group_number': 0,\n",
    "        'period_number': 0,\n",
    "        'electronegativity': 0,\n",
    "        'first_ionization_energy': 0, #kJ/mol\n",
    "        'electron_affinity': 0, #kJ/mol\n",
    "        'density': 0,\n",
    "        'weight': 0,\n",
    "        'melting_point': 0,\n",
    "        'boiling_point': 0,\n",
    "    },\n",
    "    np.nan:{\n",
    "        'group_number': 0,\n",
    "        'period_number': 0,\n",
    "        'electronegativity': 0,\n",
    "        'first_ionization_energy': 0, #kJ/mol\n",
    "        'electron_affinity': 0, #kJ/mol\n",
    "        'density': 0,\n",
    "        'weight': 0,\n",
    "        'melting_point': 0,\n",
    "        'boiling_point': 0,\n",
    "    },\n",
    "}\n",
    "\n",
    "def get_element_properties(symbol):\n",
    "    properties = element_properties.get(symbol)\n",
    "    if not properties:\n",
    "        return f\"No data available for element: {symbol}\"\n",
    "    return properties\n",
    "\n",
    "def set_hetero_desc(df):\n",
    "    hetero_desc_df = pd.DataFrame()\n",
    "    for hetero in df[\"Hetero\"]:\n",
    "        hetero_desc_df = pd.concat([hetero_desc_df,pd.DataFrame.from_dict(get_element_properties(hetero), orient='index').T],axis=0)\n",
    "    hetero_desc_df.index = range(len(hetero_desc_df))\n",
    "    df = pd.concat([df.drop([\"Hetero\"],axis=1),hetero_desc_df],axis=1)\n",
    "    return df\n",
    "\n",
    "def process_ratio(ratio):\n",
    "    if ratio == '-':\n",
    "        return 0\n",
    "    else:\n",
    "        try:\n",
    "            left, right = ratio.split(':')\n",
    "            return float(right) / (float(left)+float(right))\n",
    "        except:\n",
    "            return ratio"
   ]
  },
  {
   "cell_type": "code",
   "execution_count": 5,
   "id": "7738fadc-ee1b-449e-9087-840a11ea4590",
   "metadata": {},
   "outputs": [],
   "source": [
    "data = pd.read_csv(\"Tafel_dataset.csv\").drop([\"idx\"],axis=1)"
   ]
  },
  {
   "cell_type": "markdown",
   "id": "01cc9577-e9dd-407f-bdf1-a0031130cd35",
   "metadata": {},
   "source": [
    "# Select 1 sigma data"
   ]
  },
  {
   "cell_type": "code",
   "execution_count": 6,
   "id": "3bd77d70-9924-4dc4-bec2-8ca938102729",
   "metadata": {},
   "outputs": [
    {
     "name": "stdout",
     "output_type": "stream",
     "text": [
      "42 49.4 120.19999999999999\n"
     ]
    }
   ],
   "source": [
    "mu = 84.8\n",
    "std = 35.4\n",
    "i = 10\n",
    "lower_bound = mu-i*std*0.1\n",
    "upper_bound = mu+i*std*0.1\n",
    "data = data[((data[\"SPt/C\"] >= lower_bound)&(data[\"SPt/C\"] <= upper_bound))]\n",
    "data.index = range(len(data))\n",
    "print(len(data), lower_bound, upper_bound)"
   ]
  },
  {
   "cell_type": "code",
   "execution_count": 7,
   "id": "70663ab3-e66d-4912-a6fd-3d76f7833b64",
   "metadata": {},
   "outputs": [],
   "source": [
    "data = data.drop([\"Pt/C\",\"reported_tafel\",\"SPt/C\"],axis=1)\n",
    "data[\"tot_size\"] = data[\"tot_size\"].astype(float)\n",
    "data[\"sub_size\"] = data[\"sub_size\"].astype(float)\n",
    "data['ratio'] = data['ratio'].apply(process_ratio)\n",
    "data = set_hetero_desc(data)"
   ]
  },
  {
   "cell_type": "code",
   "execution_count": 8,
   "id": "a3f35174-adce-487f-8f54-bef5945f2d29",
   "metadata": {},
   "outputs": [
    {
     "name": "stderr",
     "output_type": "stream",
     "text": [
      "/tmp/87.1.a100.q/ipykernel_1803463/2217952559.py:4: FutureWarning: Setting an item of incompatible dtype is deprecated and will raise an error in a future version of pandas. Value '0.1' has dtype incompatible with int64, please explicitly cast to a compatible dtype first.\n",
      "  data.loc[i,\"concen\"] = float(j.split(\" \")[0][:3])\n"
     ]
    }
   ],
   "source": [
    "data[\"concen\"] = 0\n",
    "data[\"el\"] = \"KOH\"\n",
    "for i,j in enumerate(data[\"electrolyte\"]):\n",
    "    data.loc[i,\"concen\"] = float(j.split(\" \")[0][:3])\n",
    "    if j.split(\" \")[1] == \"M\":\n",
    "        data.loc[i,\"el\"] = j.split(\" \")[2]\n",
    "    else:\n",
    "        data.loc[i,\"el\"] = j.split(\" \")[1]\n",
    "data = data.drop([\"name\",\"electrolyte\"],axis=1)"
   ]
  },
  {
   "cell_type": "code",
   "execution_count": 9,
   "id": "edc4f13c-fd38-4bde-b583-471a39badd89",
   "metadata": {},
   "outputs": [],
   "source": [
    "label_encoders = joblib.load('label_encoder.pkl')\n",
    "categorical_columns = data.select_dtypes(include=['object']).columns\n",
    "for column in categorical_columns:\n",
    "    le = label_encoders[column]\n",
    "    data[column] = le.transform(data[column].astype(str))"
   ]
  },
  {
   "cell_type": "code",
   "execution_count": 11,
   "id": "776faff4-ccb8-4504-8cb1-6609c8315a04",
   "metadata": {},
   "outputs": [],
   "source": [
    "rf = joblib.load('rf_1sigma.pkl')"
   ]
  },
  {
   "cell_type": "markdown",
   "id": "0aa77966-7a55-4cc9-a47b-8a79ad75d0a5",
   "metadata": {},
   "source": [
    "import joblib\n",
    "joblib.dump(le, \"label_encoder_1204.pkl\")"
   ]
  },
  {
   "cell_type": "markdown",
   "id": "9bcfd728-0a54-4d7e-8b9b-bf1f8a40e934",
   "metadata": {},
   "source": [
    "# Random Forest"
   ]
  },
  {
   "cell_type": "code",
   "execution_count": 12,
   "id": "e9ae67d8-f409-4f24-ae56-5967e629526c",
   "metadata": {},
   "outputs": [],
   "source": [
    "X = data.drop(['label'], axis=1)\n",
    "y = data['label']\n",
    "\n",
    "X_train, X_test, y_train, y_test = train_test_split(X, y, test_size=0.2, random_state=16015)"
   ]
  },
  {
   "cell_type": "code",
   "execution_count": 15,
   "id": "c2fc4a20-a618-4354-b38a-71341869757a",
   "metadata": {},
   "outputs": [
    {
     "data": {
      "text/plain": [
       "(0.0, 160.0)"
      ]
     },
     "execution_count": 15,
     "metadata": {},
     "output_type": "execute_result"
    },
    {
     "data": {
      "image/png": "[encoded data removed]",
      "text/plain": [
       "<Figure size 640x480 with 1 Axes>"
      ]
     },
     "metadata": {},
     "output_type": "display_data"
    }
   ],
   "source": [
    "\n",
    "y_train_pred_rf = rf.predict(X_train)\n",
    "y_test_pred_rf = rf.predict(X_test)\n",
    "plt.scatter(y_test_pred_rf, y_test, c='r', s=5)\n",
    "plt.scatter(y_train_pred_rf, y_train, c='k', s=5)\n",
    "plt.yticks(fontsize=12)\n",
    "plt.xticks(fontsize=12)\n",
    "plt.ylabel(\"Target values\", fontsize=16)\n",
    "plt.xlabel(\"Predicted values\", fontsize=16)\n",
    "plt.xlim([0,160])\n",
    "plt.ylim([0,160])"
   ]
  },
  {
   "cell_type": "code",
   "execution_count": 17,
   "id": "40f35720-cb20-446d-976a-5e4f0f5de439",
   "metadata": {},
   "outputs": [
    {
     "name": "stdout",
     "output_type": "stream",
     "text": [
      "7.141046638090909 PearsonRResult(statistic=0.949695242162589, pvalue=3.49283203773493e-17)\n",
      "9.35601615411111 PearsonRResult(statistic=0.8501072237868678, pvalue=0.003695923683180291)\n"
     ]
    }
   ],
   "source": [
    "mae = mean_absolute_error(y_train, y_train_pred_rf)\n",
    "r2 = pearsonr(np.array(y_train), np.array(y_train_pred_rf))#.statistic\n",
    "print(mae, r2)\n",
    "mae = mean_absolute_error(y_test, y_test_pred_rf)\n",
    "r2 = pearsonr(y_test, y_test_pred_rf)#.statistic\n",
    "print(mae, r2)"
   ]
  }
 ],
 "metadata": {
  "kernelspec": {
   "display_name": "torch2_mini",
   "language": "python",
   "name": "torch2_mini"
  },
  "language_info": {
   "codemirror_mode": {
    "name": "ipython",
    "version": 3
   },
   "file_extension": ".py",
   "mimetype": "text/x-python",
   "name": "python",
   "nbconvert_exporter": "python",
   "pygments_lexer": "ipython3",
   "version": "3.10.16"
  }
 },
 "nbformat": 4,
 "nbformat_minor": 5
}
